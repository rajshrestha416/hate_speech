{
 "cells": [
  {
   "cell_type": "code",
   "execution_count": 454,
   "id": "120972c7",
   "metadata": {},
   "outputs": [],
   "source": [
    "#imports libraries\n",
    "import numpy as np\n",
    "import pandas as pd\n",
    "\n",
    "import re\n",
    "from sklearn.feature_extraction.text import TfidfVectorizer\n",
    "from sklearn.feature_selection import SelectKBest, chi2\n",
    "from sklearn.model_selection import train_test_split\n",
    "from sklearn.preprocessing import LabelEncoder\n",
    "from nltk.corpus import stopwords\n",
    "from nltk.stem import SnowballStemmer\n",
    "\n",
    "from tensorflow import keras\n",
    "from tensorflow.keras.models import Sequential\n",
    "from tensorflow.keras.layers import Embedding, Bidirectional, LSTM, Dense, Dropout, SpatialDropout1D\n",
    "from tensorflow.keras.optimizers.legacy import Adam\n",
    "from tensorflow.keras.callbacks import ModelCheckpoint, EarlyStopping, ReduceLROnPlateau\n",
    "from tensorflow.keras.preprocessing.text import Tokenizer\n",
    "from tensorflow.keras.preprocessing.sequence import pad_sequences\n",
    "\n",
    "from keras.utils import to_categorical\n",
    "from keras import backend as K\n",
    "from sklearn.metrics import classification_report, accuracy_score, roc_auc_score\n"
   ]
  },
  {
   "cell_type": "code",
   "execution_count": 226,
   "id": "9b6c29cf",
   "metadata": {},
   "outputs": [],
   "source": [
    "#import data\n",
    "# df_twitter = pd.read_csv(\"twitter_hate_speech.csv\")\n",
    "# df_nepali = pd.read_excel(\"nepali_hate_speech.xlsx\")\n",
    "\n",
    "df = pd.read_csv(\"merge_data.csv\")"
   ]
  },
  {
   "cell_type": "code",
   "execution_count": 227,
   "id": "9ff09dd8",
   "metadata": {},
   "outputs": [
    {
     "data": {
      "text/html": [
       "<div>\n",
       "<style scoped>\n",
       "    .dataframe tbody tr th:only-of-type {\n",
       "        vertical-align: middle;\n",
       "    }\n",
       "\n",
       "    .dataframe tbody tr th {\n",
       "        vertical-align: top;\n",
       "    }\n",
       "\n",
       "    .dataframe thead th {\n",
       "        text-align: right;\n",
       "    }\n",
       "</style>\n",
       "<table border=\"1\" class=\"dataframe\">\n",
       "  <thead>\n",
       "    <tr style=\"text-align: right;\">\n",
       "      <th></th>\n",
       "      <th>text</th>\n",
       "      <th>label</th>\n",
       "      <th>category</th>\n",
       "    </tr>\n",
       "  </thead>\n",
       "  <tbody>\n",
       "    <tr>\n",
       "      <th>0</th>\n",
       "      <td>!!! RT @mayasolovely: As a woman you shouldn't...</td>\n",
       "      <td>2</td>\n",
       "      <td>neither</td>\n",
       "    </tr>\n",
       "    <tr>\n",
       "      <th>1</th>\n",
       "      <td>!!!!! RT @mleew17: boy dats cold...tyga dwn ba...</td>\n",
       "      <td>1</td>\n",
       "      <td>offensive_language</td>\n",
       "    </tr>\n",
       "    <tr>\n",
       "      <th>2</th>\n",
       "      <td>!!!!!!! RT @UrKindOfBrand Dawg!!!! RT @80sbaby...</td>\n",
       "      <td>1</td>\n",
       "      <td>offensive_language</td>\n",
       "    </tr>\n",
       "    <tr>\n",
       "      <th>3</th>\n",
       "      <td>!!!!!!!!! RT @C_G_Anderson: @viva_based she lo...</td>\n",
       "      <td>1</td>\n",
       "      <td>offensive_language</td>\n",
       "    </tr>\n",
       "    <tr>\n",
       "      <th>4</th>\n",
       "      <td>!!!!!!!!!!!!! RT @ShenikaRoberts: The shit you...</td>\n",
       "      <td>1</td>\n",
       "      <td>offensive_language</td>\n",
       "    </tr>\n",
       "    <tr>\n",
       "      <th>...</th>\n",
       "      <td>...</td>\n",
       "      <td>...</td>\n",
       "      <td>...</td>\n",
       "    </tr>\n",
       "    <tr>\n",
       "      <th>25855</th>\n",
       "      <td>hutihara</td>\n",
       "      <td>0</td>\n",
       "      <td>hate_speech</td>\n",
       "    </tr>\n",
       "    <tr>\n",
       "      <th>25856</th>\n",
       "      <td>hutihara</td>\n",
       "      <td>0</td>\n",
       "      <td>hate_speech</td>\n",
       "    </tr>\n",
       "    <tr>\n",
       "      <th>25857</th>\n",
       "      <td>haija</td>\n",
       "      <td>2</td>\n",
       "      <td>neither</td>\n",
       "    </tr>\n",
       "    <tr>\n",
       "      <th>25858</th>\n",
       "      <td>hwau nabhayeko</td>\n",
       "      <td>0</td>\n",
       "      <td>hate_speech</td>\n",
       "    </tr>\n",
       "    <tr>\n",
       "      <th>25859</th>\n",
       "      <td>what the fuck</td>\n",
       "      <td>1</td>\n",
       "      <td>offensive_language</td>\n",
       "    </tr>\n",
       "  </tbody>\n",
       "</table>\n",
       "<p>25860 rows × 3 columns</p>\n",
       "</div>"
      ],
      "text/plain": [
       "                                                    text  label  \\\n",
       "0      !!! RT @mayasolovely: As a woman you shouldn't...      2   \n",
       "1      !!!!! RT @mleew17: boy dats cold...tyga dwn ba...      1   \n",
       "2      !!!!!!! RT @UrKindOfBrand Dawg!!!! RT @80sbaby...      1   \n",
       "3      !!!!!!!!! RT @C_G_Anderson: @viva_based she lo...      1   \n",
       "4      !!!!!!!!!!!!! RT @ShenikaRoberts: The shit you...      1   \n",
       "...                                                  ...    ...   \n",
       "25855                                           hutihara      0   \n",
       "25856                                           hutihara      0   \n",
       "25857                                              haija      2   \n",
       "25858                                     hwau nabhayeko      0   \n",
       "25859                                      what the fuck      1   \n",
       "\n",
       "                 category  \n",
       "0                 neither  \n",
       "1      offensive_language  \n",
       "2      offensive_language  \n",
       "3      offensive_language  \n",
       "4      offensive_language  \n",
       "...                   ...  \n",
       "25855         hate_speech  \n",
       "25856         hate_speech  \n",
       "25857             neither  \n",
       "25858         hate_speech  \n",
       "25859  offensive_language  \n",
       "\n",
       "[25860 rows x 3 columns]"
      ]
     },
     "execution_count": 227,
     "metadata": {},
     "output_type": "execute_result"
    }
   ],
   "source": [
    "df"
   ]
  },
  {
   "cell_type": "code",
   "execution_count": 228,
   "id": "35f70492",
   "metadata": {},
   "outputs": [],
   "source": [
    "# df_nepali"
   ]
  },
  {
   "cell_type": "markdown",
   "id": "3a37267c",
   "metadata": {},
   "source": [
    "### Pre Process"
   ]
  },
  {
   "cell_type": "code",
   "execution_count": 229,
   "id": "9dee7bb0",
   "metadata": {},
   "outputs": [
    {
     "name": "stdout",
     "output_type": "stream",
     "text": [
      "<class 'pandas.core.frame.DataFrame'>\n",
      "RangeIndex: 25860 entries, 0 to 25859\n",
      "Data columns (total 3 columns):\n",
      " #   Column    Non-Null Count  Dtype \n",
      "---  ------    --------------  ----- \n",
      " 0   text      25860 non-null  object\n",
      " 1   label     25860 non-null  int64 \n",
      " 2   category  25860 non-null  object\n",
      "dtypes: int64(1), object(2)\n",
      "memory usage: 606.2+ KB\n"
     ]
    }
   ],
   "source": [
    "df.info()"
   ]
  },
  {
   "cell_type": "code",
   "execution_count": 230,
   "id": "6b35f126",
   "metadata": {},
   "outputs": [
    {
     "data": {
      "text/html": [
       "<div>\n",
       "<style scoped>\n",
       "    .dataframe tbody tr th:only-of-type {\n",
       "        vertical-align: middle;\n",
       "    }\n",
       "\n",
       "    .dataframe tbody tr th {\n",
       "        vertical-align: top;\n",
       "    }\n",
       "\n",
       "    .dataframe thead th {\n",
       "        text-align: right;\n",
       "    }\n",
       "</style>\n",
       "<table border=\"1\" class=\"dataframe\">\n",
       "  <thead>\n",
       "    <tr style=\"text-align: right;\">\n",
       "      <th></th>\n",
       "      <th>text</th>\n",
       "      <th>label</th>\n",
       "      <th>category</th>\n",
       "    </tr>\n",
       "  </thead>\n",
       "  <tbody>\n",
       "    <tr>\n",
       "      <th>0</th>\n",
       "      <td>!!! RT @mayasolovely: As a woman you shouldn't...</td>\n",
       "      <td>2</td>\n",
       "      <td>neither</td>\n",
       "    </tr>\n",
       "    <tr>\n",
       "      <th>1</th>\n",
       "      <td>!!!!! RT @mleew17: boy dats cold...tyga dwn ba...</td>\n",
       "      <td>1</td>\n",
       "      <td>offensive_language</td>\n",
       "    </tr>\n",
       "    <tr>\n",
       "      <th>2</th>\n",
       "      <td>!!!!!!! RT @UrKindOfBrand Dawg!!!! RT @80sbaby...</td>\n",
       "      <td>1</td>\n",
       "      <td>offensive_language</td>\n",
       "    </tr>\n",
       "    <tr>\n",
       "      <th>3</th>\n",
       "      <td>!!!!!!!!! RT @C_G_Anderson: @viva_based she lo...</td>\n",
       "      <td>1</td>\n",
       "      <td>offensive_language</td>\n",
       "    </tr>\n",
       "    <tr>\n",
       "      <th>4</th>\n",
       "      <td>!!!!!!!!!!!!! RT @ShenikaRoberts: The shit you...</td>\n",
       "      <td>1</td>\n",
       "      <td>offensive_language</td>\n",
       "    </tr>\n",
       "  </tbody>\n",
       "</table>\n",
       "</div>"
      ],
      "text/plain": [
       "                                                text  label  \\\n",
       "0  !!! RT @mayasolovely: As a woman you shouldn't...      2   \n",
       "1  !!!!! RT @mleew17: boy dats cold...tyga dwn ba...      1   \n",
       "2  !!!!!!! RT @UrKindOfBrand Dawg!!!! RT @80sbaby...      1   \n",
       "3  !!!!!!!!! RT @C_G_Anderson: @viva_based she lo...      1   \n",
       "4  !!!!!!!!!!!!! RT @ShenikaRoberts: The shit you...      1   \n",
       "\n",
       "             category  \n",
       "0             neither  \n",
       "1  offensive_language  \n",
       "2  offensive_language  \n",
       "3  offensive_language  \n",
       "4  offensive_language  "
      ]
     },
     "execution_count": 230,
     "metadata": {},
     "output_type": "execute_result"
    }
   ],
   "source": [
    "df.shape\n",
    "df.head(5)"
   ]
  },
  {
   "cell_type": "code",
   "execution_count": 231,
   "id": "f53037bc",
   "metadata": {},
   "outputs": [],
   "source": [
    "def preprocess_text(text):\n",
    "    # Lowercase\n",
    "    text = text.lower()\n",
    "    \n",
    "    # Removing special characters, URLs, and extra whitespaces\n",
    "    text = re.sub(r'https?://\\S+|www\\.\\S+', '', text)\n",
    "    text = re.sub(r'<.*?>', '', text)\n",
    "    text = re.sub(r'[^A-Za-z0-9]+', ' ', text)\n",
    "    # Tokenization\n",
    "    text = text.split()\n",
    "    \n",
    "    # Remove stopwords\n",
    "    stop_words = set(stopwords.words('english'))\n",
    "    text = [word for word in text if word not in stop_words]\n",
    "    \n",
    "    # Stemming\n",
    "    stemmer = SnowballStemmer('english')\n",
    "    text = [stemmer.stem(word) for word in text]\n",
    "    return ' '.join(text)"
   ]
  },
  {
   "cell_type": "code",
   "execution_count": 232,
   "id": "ff1dcb74",
   "metadata": {},
   "outputs": [],
   "source": [
    "df['text'] = df['text'].apply(preprocess_text)"
   ]
  },
  {
   "cell_type": "code",
   "execution_count": 233,
   "id": "397661d6",
   "metadata": {},
   "outputs": [
    {
     "data": {
      "text/plain": [
       "0        rt mayasolov woman complain clean hous amp man...\n",
       "1        rt mleew17 boy dat cold tyga dwn bad cuffin da...\n",
       "2        rt urkindofbrand dawg rt 80sbaby4lif ever fuck...\n",
       "3               rt c g anderson viva base look like tranni\n",
       "4        rt shenikarobert shit hear might true might fa...\n",
       "                               ...                        \n",
       "25855                                             hutihara\n",
       "25856                                             hutihara\n",
       "25857                                                haija\n",
       "25858                                       hwau nabhayeko\n",
       "25859                                                 fuck\n",
       "Name: text, Length: 25860, dtype: object"
      ]
     },
     "execution_count": 233,
     "metadata": {},
     "output_type": "execute_result"
    }
   ],
   "source": [
    "df['text']"
   ]
  },
  {
   "cell_type": "code",
   "execution_count": null,
   "id": "ad3bc941",
   "metadata": {},
   "outputs": [],
   "source": []
  },
  {
   "cell_type": "code",
   "execution_count": 173,
   "id": "783903f3",
   "metadata": {},
   "outputs": [],
   "source": [
    "# Feature Selection using chi-squared test\n",
    "# k_best = SelectKBest(chi2, k=1000)\n",
    "# X = k_best.fit_transform(X, data['label'])\n",
    "# X = X.toarray()"
   ]
  },
  {
   "cell_type": "code",
   "execution_count": 459,
   "id": "35b73342",
   "metadata": {},
   "outputs": [],
   "source": [
    "X_train, X_test, y_train, y_test = train_test_split(df['text'], df['label'], test_size=0.3, random_state=42)"
   ]
  },
  {
   "cell_type": "code",
   "execution_count": 405,
   "id": "c48b8a42",
   "metadata": {},
   "outputs": [],
   "source": [
    "# Split the data into training and validation sets\n",
    "# y = data['label']\n",
    "# Split the data into training, validation, and test sets\n",
    "# X_train, X_temp, y_train, y_temp = train_test_split(df['text'], df['label'], test_size=0.2, random_state=42)\n",
    "# X_val, X_test, y_val, y_test = train_test_split(X_temp, y_temp, test_size=0.5, random_state=42)"
   ]
  },
  {
   "cell_type": "code",
   "execution_count": 460,
   "id": "30fb71fa",
   "metadata": {},
   "outputs": [
    {
     "data": {
      "text/plain": [
       "18696    1\n",
       "341      2\n",
       "1510     1\n",
       "2201     1\n",
       "24739    1\n",
       "        ..\n",
       "11527    1\n",
       "13243    1\n",
       "10041    1\n",
       "11724    1\n",
       "579      1\n",
       "Name: label, Length: 7758, dtype: int64"
      ]
     },
     "execution_count": 460,
     "metadata": {},
     "output_type": "execute_result"
    }
   ],
   "source": [
    "y_test"
   ]
  },
  {
   "cell_type": "code",
   "execution_count": 461,
   "id": "2b3de412",
   "metadata": {},
   "outputs": [],
   "source": [
    "# declare the tokenizer\n",
    "tokenizer = Tokenizer()\n",
    "tokenizer.fit_on_texts(X_train)\n",
    "\n",
    "# tokenize the train and test dataset\n",
    "X_train = tokenizer.texts_to_sequences(X_train)\n",
    "X_test = tokenizer.texts_to_sequences(X_test)\n",
    "\n",
    "vocab_size = len(tokenizer.word_index) + 1"
   ]
  },
  {
   "cell_type": "code",
   "execution_count": 462,
   "id": "38af85b4",
   "metadata": {},
   "outputs": [
    {
     "data": {
      "text/plain": [
       "23325"
      ]
     },
     "execution_count": 462,
     "metadata": {},
     "output_type": "execute_result"
    }
   ],
   "source": [
    "vocab_size"
   ]
  },
  {
   "cell_type": "code",
   "execution_count": 463,
   "id": "a71de550",
   "metadata": {},
   "outputs": [
    {
     "data": {
      "text/plain": [
       "array([[   0,    0,    0, ...,  143,    7,    1],\n",
       "       [   0,    0,    0, ..., 7358,  387, 1451],\n",
       "       [   0,    0,    0, ...,   89,    1, 1426],\n",
       "       ...,\n",
       "       [   0,    0,    0, ...,   76, 5293,  103],\n",
       "       [   0,    0,    0, ...,  121,  168,   64],\n",
       "       [   0,    0,    0, ...,  108,   28,    6]], dtype=int32)"
      ]
     },
     "execution_count": 463,
     "metadata": {},
     "output_type": "execute_result"
    }
   ],
   "source": [
    "X_val"
   ]
  },
  {
   "cell_type": "code",
   "execution_count": 464,
   "id": "a0b7d8bd",
   "metadata": {},
   "outputs": [],
   "source": [
    "## Padding -> to uniform the datas\n",
    "max_length = max(len(seq) for seq in X_train)\n",
    "\n",
    "for x in X_test:\n",
    "    if len(x) > max_length:\n",
    "        print(f\"an outlier detected: {x}\")\n",
    "\n",
    "X_train = pad_sequences(X_train, maxlen = max_length)\n",
    "X_test = pad_sequences(X_test, maxlen = max_length)"
   ]
  },
  {
   "cell_type": "code",
   "execution_count": 465,
   "id": "b2e7d792",
   "metadata": {},
   "outputs": [],
   "source": [
    "y_test = to_categorical(y_test, num_classes=3)\n",
    "y_train = to_categorical(y_train, num_classes=3)"
   ]
  },
  {
   "cell_type": "code",
   "execution_count": 466,
   "id": "e8898394",
   "metadata": {},
   "outputs": [
    {
     "data": {
      "text/plain": [
       "array([[   0,    0,    0, ..., 8894,    1, 8895],\n",
       "       [   0,    0,    0, ..., 3061,   41,    1],\n",
       "       [   0,    0,    0, ...,  654, 1685,  291],\n",
       "       ...,\n",
       "       [   0,    0,    0, ...,  368, 1993, 1266],\n",
       "       [   0,    0,    0, ...,  217,  295,   18],\n",
       "       [   0,    0,    0, ...,   27,  681,   92]], dtype=int32)"
      ]
     },
     "execution_count": 466,
     "metadata": {},
     "output_type": "execute_result"
    }
   ],
   "source": [
    "X_train"
   ]
  },
  {
   "cell_type": "code",
   "execution_count": 467,
   "id": "f356f605",
   "metadata": {},
   "outputs": [
    {
     "name": "stdout",
     "output_type": "stream",
     "text": [
      "num test tweet: 7758\n",
      "num train tweet: 18102\n"
     ]
    }
   ],
   "source": [
    "print(f\"num test tweet: {y_test.shape[0]}\")\n",
    "print(f\"num train tweet: {y_train.shape[0]}\")"
   ]
  },
  {
   "cell_type": "code",
   "execution_count": 468,
   "id": "823cfe87",
   "metadata": {},
   "outputs": [],
   "source": [
    "def recall(y_true, y_pred):\n",
    "    true_positives = K.sum(K.round(K.clip(y_true * y_pred, 0, 1)))\n",
    "    possible_positives = K.sum(K.round(K.clip(y_true, 0, 1)))\n",
    "    recall = true_positives / (possible_positives + K.epsilon())\n",
    "    return recall\n",
    "\n",
    "def precision(y_true, y_pred):\n",
    "    true_positives = K.sum(K.round(K.clip(y_true * y_pred, 0, 1)))\n",
    "    predicted_positives = K.sum(K.round(K.clip(y_pred, 0, 1)))\n",
    "    precision = true_positives / (predicted_positives + K.epsilon())\n",
    "    return precision\n",
    "\n",
    "def f1(y_true, y_pred):\n",
    "    precisions = precision(y_true, y_pred)\n",
    "    recalls = recall(y_true, y_pred)\n",
    "    return 2*((precisions*recalls)/(precisions+recalls+K.epsilon()))"
   ]
  },
  {
   "cell_type": "code",
   "execution_count": 472,
   "id": "37981c98",
   "metadata": {},
   "outputs": [],
   "source": [
    "# change dis if u want\n",
    "output_dim = 200\n",
    "\n",
    "model = Sequential([\n",
    "    Embedding(vocab_size, output_dim, input_length=max_length),\n",
    "    # lstm for xxx\n",
    "    Bidirectional(LSTM(20, dropout=0.2, recurrent_dropout=0.2)),\n",
    "    # dropout to prevent overfitting\n",
    "    Dropout(0.5),\n",
    "    # dense to connect the previous output with current layer\n",
    "    Dense(128, activation=\"relu\"),\n",
    "    # dropout to prevent overfitting\n",
    "    Dropout(0.5),\n",
    "    # this is output layer, with 3 class (0, 1, 2)\n",
    "    Dense(3, activation=\"softmax\"),\n",
    "])\n",
    "\n",
    "# model = Sequential()\n",
    "# model.add(Embedding(232337, 100, input_length=X_train.shape[1]))\n",
    "# model.add(SpatialDropout1D(0.2))\n",
    "# model.add(LSTM(20, dropout=0.2, recurrent_dropout=0.2))\n",
    "# model.add(Dense(3, activation='softmax'))\n",
    "# model.compile(loss='binary_crossentropy', optimizer='adam', metrics=['accuracy'])\n",
    "\n",
    "model.compile(optimizer='adam', loss='categorical_crossentropy', metrics=['accuracy',f1,precision, recall])"
   ]
  },
  {
   "cell_type": "code",
   "execution_count": 473,
   "id": "ac4530f9",
   "metadata": {},
   "outputs": [
    {
     "name": "stdout",
     "output_type": "stream",
     "text": [
      "Model: \"sequential_19\"\n",
      "_________________________________________________________________\n",
      " Layer (type)                Output Shape              Param #   \n",
      "=================================================================\n",
      " embedding_19 (Embedding)    (None, 85, 100)           23233700  \n",
      "                                                                 \n",
      " spatial_dropout1d_2 (Spati  (None, 85, 100)           0         \n",
      " alDropout1D)                                                    \n",
      "                                                                 \n",
      " lstm_17 (LSTM)              (None, 20)                9680      \n",
      "                                                                 \n",
      " dense_34 (Dense)            (None, 3)                 63        \n",
      "                                                                 \n",
      "=================================================================\n",
      "Total params: 23243443 (88.67 MB)\n",
      "Trainable params: 23243443 (88.67 MB)\n",
      "Non-trainable params: 0 (0.00 Byte)\n",
      "_________________________________________________________________\n"
     ]
    }
   ],
   "source": [
    "model.summary()"
   ]
  },
  {
   "cell_type": "code",
   "execution_count": 474,
   "id": "95333c68",
   "metadata": {},
   "outputs": [
    {
     "name": "stdout",
     "output_type": "stream",
     "text": [
      "Epoch 1/25\n",
      "283/283 [==============================] - 22s 76ms/step - loss: 0.3476 - accuracy: 0.7899 - val_loss: 0.2284 - val_accuracy: 0.8728\n",
      "Epoch 2/25\n",
      "283/283 [==============================] - 21s 74ms/step - loss: 0.1866 - accuracy: 0.8993 - val_loss: 0.2043 - val_accuracy: 0.8808\n",
      "Epoch 3/25\n",
      "283/283 [==============================] - 21s 74ms/step - loss: 0.1263 - accuracy: 0.9345 - val_loss: 0.2138 - val_accuracy: 0.8787\n",
      "Epoch 4/25\n",
      "283/283 [==============================] - 21s 75ms/step - loss: 0.0831 - accuracy: 0.9632 - val_loss: 0.2435 - val_accuracy: 0.8708\n",
      "Epoch 5/25\n",
      "283/283 [==============================] - 21s 75ms/step - loss: 0.0552 - accuracy: 0.9780 - val_loss: 0.2908 - val_accuracy: 0.8652\n",
      "Epoch 6/25\n",
      " 97/283 [=========>....................] - ETA: 13s - loss: 0.0371 - accuracy: 0.9871"
     ]
    },
    {
     "ename": "KeyboardInterrupt",
     "evalue": "",
     "output_type": "error",
     "traceback": [
      "\u001b[0;31m---------------------------------------------------------------------------\u001b[0m",
      "\u001b[0;31mKeyboardInterrupt\u001b[0m                         Traceback (most recent call last)",
      "Cell \u001b[0;32mIn[474], line 2\u001b[0m\n\u001b[1;32m      1\u001b[0m \u001b[38;5;66;03m# Train the model\u001b[39;00m\n\u001b[0;32m----> 2\u001b[0m model_history \u001b[38;5;241m=\u001b[39m \u001b[43mmodel\u001b[49m\u001b[38;5;241;43m.\u001b[39;49m\u001b[43mfit\u001b[49m\u001b[43m(\u001b[49m\n\u001b[1;32m      3\u001b[0m \u001b[43m    \u001b[49m\u001b[43mX_train\u001b[49m\u001b[43m,\u001b[49m\n\u001b[1;32m      4\u001b[0m \u001b[43m    \u001b[49m\u001b[43my_train\u001b[49m\u001b[43m,\u001b[49m\n\u001b[1;32m      5\u001b[0m \u001b[43m    \u001b[49m\u001b[43mbatch_size\u001b[49m\u001b[43m \u001b[49m\u001b[38;5;241;43m=\u001b[39;49m\u001b[43m \u001b[49m\u001b[38;5;241;43m64\u001b[39;49m\u001b[43m,\u001b[49m\n\u001b[1;32m      6\u001b[0m \u001b[43m    \u001b[49m\u001b[43mepochs\u001b[49m\u001b[38;5;241;43m=\u001b[39;49m\u001b[38;5;241;43m25\u001b[39;49m\u001b[43m,\u001b[49m\n\u001b[1;32m      7\u001b[0m \u001b[43m    \u001b[49m\u001b[43mvalidation_data\u001b[49m\u001b[38;5;241;43m=\u001b[39;49m\u001b[43m(\u001b[49m\u001b[43mX_test\u001b[49m\u001b[43m,\u001b[49m\u001b[43m \u001b[49m\u001b[43my_test\u001b[49m\u001b[43m)\u001b[49m\n\u001b[1;32m      8\u001b[0m \u001b[43m)\u001b[49m\n",
      "File \u001b[0;32m/opt/homebrew/Caskroom/miniconda/base/lib/python3.10/site-packages/keras/src/utils/traceback_utils.py:65\u001b[0m, in \u001b[0;36mfilter_traceback.<locals>.error_handler\u001b[0;34m(*args, **kwargs)\u001b[0m\n\u001b[1;32m     63\u001b[0m filtered_tb \u001b[38;5;241m=\u001b[39m \u001b[38;5;28;01mNone\u001b[39;00m\n\u001b[1;32m     64\u001b[0m \u001b[38;5;28;01mtry\u001b[39;00m:\n\u001b[0;32m---> 65\u001b[0m     \u001b[38;5;28;01mreturn\u001b[39;00m \u001b[43mfn\u001b[49m\u001b[43m(\u001b[49m\u001b[38;5;241;43m*\u001b[39;49m\u001b[43margs\u001b[49m\u001b[43m,\u001b[49m\u001b[43m \u001b[49m\u001b[38;5;241;43m*\u001b[39;49m\u001b[38;5;241;43m*\u001b[39;49m\u001b[43mkwargs\u001b[49m\u001b[43m)\u001b[49m\n\u001b[1;32m     66\u001b[0m \u001b[38;5;28;01mexcept\u001b[39;00m \u001b[38;5;167;01mException\u001b[39;00m \u001b[38;5;28;01mas\u001b[39;00m e:\n\u001b[1;32m     67\u001b[0m     filtered_tb \u001b[38;5;241m=\u001b[39m _process_traceback_frames(e\u001b[38;5;241m.\u001b[39m__traceback__)\n",
      "File \u001b[0;32m/opt/homebrew/Caskroom/miniconda/base/lib/python3.10/site-packages/keras/src/engine/training.py:1783\u001b[0m, in \u001b[0;36mModel.fit\u001b[0;34m(self, x, y, batch_size, epochs, verbose, callbacks, validation_split, validation_data, shuffle, class_weight, sample_weight, initial_epoch, steps_per_epoch, validation_steps, validation_batch_size, validation_freq, max_queue_size, workers, use_multiprocessing)\u001b[0m\n\u001b[1;32m   1775\u001b[0m \u001b[38;5;28;01mwith\u001b[39;00m tf\u001b[38;5;241m.\u001b[39mprofiler\u001b[38;5;241m.\u001b[39mexperimental\u001b[38;5;241m.\u001b[39mTrace(\n\u001b[1;32m   1776\u001b[0m     \u001b[38;5;124m\"\u001b[39m\u001b[38;5;124mtrain\u001b[39m\u001b[38;5;124m\"\u001b[39m,\n\u001b[1;32m   1777\u001b[0m     epoch_num\u001b[38;5;241m=\u001b[39mepoch,\n\u001b[0;32m   (...)\u001b[0m\n\u001b[1;32m   1780\u001b[0m     _r\u001b[38;5;241m=\u001b[39m\u001b[38;5;241m1\u001b[39m,\n\u001b[1;32m   1781\u001b[0m ):\n\u001b[1;32m   1782\u001b[0m     callbacks\u001b[38;5;241m.\u001b[39mon_train_batch_begin(step)\n\u001b[0;32m-> 1783\u001b[0m     tmp_logs \u001b[38;5;241m=\u001b[39m \u001b[38;5;28;43mself\u001b[39;49m\u001b[38;5;241;43m.\u001b[39;49m\u001b[43mtrain_function\u001b[49m\u001b[43m(\u001b[49m\u001b[43miterator\u001b[49m\u001b[43m)\u001b[49m\n\u001b[1;32m   1784\u001b[0m     \u001b[38;5;28;01mif\u001b[39;00m data_handler\u001b[38;5;241m.\u001b[39mshould_sync:\n\u001b[1;32m   1785\u001b[0m         context\u001b[38;5;241m.\u001b[39masync_wait()\n",
      "File \u001b[0;32m/opt/homebrew/Caskroom/miniconda/base/lib/python3.10/site-packages/tensorflow/python/util/traceback_utils.py:150\u001b[0m, in \u001b[0;36mfilter_traceback.<locals>.error_handler\u001b[0;34m(*args, **kwargs)\u001b[0m\n\u001b[1;32m    148\u001b[0m filtered_tb \u001b[38;5;241m=\u001b[39m \u001b[38;5;28;01mNone\u001b[39;00m\n\u001b[1;32m    149\u001b[0m \u001b[38;5;28;01mtry\u001b[39;00m:\n\u001b[0;32m--> 150\u001b[0m   \u001b[38;5;28;01mreturn\u001b[39;00m \u001b[43mfn\u001b[49m\u001b[43m(\u001b[49m\u001b[38;5;241;43m*\u001b[39;49m\u001b[43margs\u001b[49m\u001b[43m,\u001b[49m\u001b[43m \u001b[49m\u001b[38;5;241;43m*\u001b[39;49m\u001b[38;5;241;43m*\u001b[39;49m\u001b[43mkwargs\u001b[49m\u001b[43m)\u001b[49m\n\u001b[1;32m    151\u001b[0m \u001b[38;5;28;01mexcept\u001b[39;00m \u001b[38;5;167;01mException\u001b[39;00m \u001b[38;5;28;01mas\u001b[39;00m e:\n\u001b[1;32m    152\u001b[0m   filtered_tb \u001b[38;5;241m=\u001b[39m _process_traceback_frames(e\u001b[38;5;241m.\u001b[39m__traceback__)\n",
      "File \u001b[0;32m/opt/homebrew/Caskroom/miniconda/base/lib/python3.10/site-packages/tensorflow/python/eager/polymorphic_function/polymorphic_function.py:831\u001b[0m, in \u001b[0;36mFunction.__call__\u001b[0;34m(self, *args, **kwds)\u001b[0m\n\u001b[1;32m    828\u001b[0m compiler \u001b[38;5;241m=\u001b[39m \u001b[38;5;124m\"\u001b[39m\u001b[38;5;124mxla\u001b[39m\u001b[38;5;124m\"\u001b[39m \u001b[38;5;28;01mif\u001b[39;00m \u001b[38;5;28mself\u001b[39m\u001b[38;5;241m.\u001b[39m_jit_compile \u001b[38;5;28;01melse\u001b[39;00m \u001b[38;5;124m\"\u001b[39m\u001b[38;5;124mnonXla\u001b[39m\u001b[38;5;124m\"\u001b[39m\n\u001b[1;32m    830\u001b[0m \u001b[38;5;28;01mwith\u001b[39;00m OptionalXlaContext(\u001b[38;5;28mself\u001b[39m\u001b[38;5;241m.\u001b[39m_jit_compile):\n\u001b[0;32m--> 831\u001b[0m   result \u001b[38;5;241m=\u001b[39m \u001b[38;5;28;43mself\u001b[39;49m\u001b[38;5;241;43m.\u001b[39;49m\u001b[43m_call\u001b[49m\u001b[43m(\u001b[49m\u001b[38;5;241;43m*\u001b[39;49m\u001b[43margs\u001b[49m\u001b[43m,\u001b[49m\u001b[43m \u001b[49m\u001b[38;5;241;43m*\u001b[39;49m\u001b[38;5;241;43m*\u001b[39;49m\u001b[43mkwds\u001b[49m\u001b[43m)\u001b[49m\n\u001b[1;32m    833\u001b[0m new_tracing_count \u001b[38;5;241m=\u001b[39m \u001b[38;5;28mself\u001b[39m\u001b[38;5;241m.\u001b[39mexperimental_get_tracing_count()\n\u001b[1;32m    834\u001b[0m without_tracing \u001b[38;5;241m=\u001b[39m (tracing_count \u001b[38;5;241m==\u001b[39m new_tracing_count)\n",
      "File \u001b[0;32m/opt/homebrew/Caskroom/miniconda/base/lib/python3.10/site-packages/tensorflow/python/eager/polymorphic_function/polymorphic_function.py:867\u001b[0m, in \u001b[0;36mFunction._call\u001b[0;34m(self, *args, **kwds)\u001b[0m\n\u001b[1;32m    864\u001b[0m   \u001b[38;5;28mself\u001b[39m\u001b[38;5;241m.\u001b[39m_lock\u001b[38;5;241m.\u001b[39mrelease()\n\u001b[1;32m    865\u001b[0m   \u001b[38;5;66;03m# In this case we have created variables on the first call, so we run the\u001b[39;00m\n\u001b[1;32m    866\u001b[0m   \u001b[38;5;66;03m# defunned version which is guaranteed to never create variables.\u001b[39;00m\n\u001b[0;32m--> 867\u001b[0m   \u001b[38;5;28;01mreturn\u001b[39;00m \u001b[43mtracing_compilation\u001b[49m\u001b[38;5;241;43m.\u001b[39;49m\u001b[43mcall_function\u001b[49m\u001b[43m(\u001b[49m\n\u001b[1;32m    868\u001b[0m \u001b[43m      \u001b[49m\u001b[43margs\u001b[49m\u001b[43m,\u001b[49m\u001b[43m \u001b[49m\u001b[43mkwds\u001b[49m\u001b[43m,\u001b[49m\u001b[43m \u001b[49m\u001b[38;5;28;43mself\u001b[39;49m\u001b[38;5;241;43m.\u001b[39;49m\u001b[43m_no_variable_creation_config\u001b[49m\n\u001b[1;32m    869\u001b[0m \u001b[43m  \u001b[49m\u001b[43m)\u001b[49m\n\u001b[1;32m    870\u001b[0m \u001b[38;5;28;01melif\u001b[39;00m \u001b[38;5;28mself\u001b[39m\u001b[38;5;241m.\u001b[39m_variable_creation_config \u001b[38;5;129;01mis\u001b[39;00m \u001b[38;5;129;01mnot\u001b[39;00m \u001b[38;5;28;01mNone\u001b[39;00m:\n\u001b[1;32m    871\u001b[0m   \u001b[38;5;66;03m# Release the lock early so that multiple threads can perform the call\u001b[39;00m\n\u001b[1;32m    872\u001b[0m   \u001b[38;5;66;03m# in parallel.\u001b[39;00m\n\u001b[1;32m    873\u001b[0m   \u001b[38;5;28mself\u001b[39m\u001b[38;5;241m.\u001b[39m_lock\u001b[38;5;241m.\u001b[39mrelease()\n",
      "File \u001b[0;32m/opt/homebrew/Caskroom/miniconda/base/lib/python3.10/site-packages/tensorflow/python/eager/polymorphic_function/tracing_compilation.py:139\u001b[0m, in \u001b[0;36mcall_function\u001b[0;34m(args, kwargs, tracing_options)\u001b[0m\n\u001b[1;32m    137\u001b[0m bound_args \u001b[38;5;241m=\u001b[39m function\u001b[38;5;241m.\u001b[39mfunction_type\u001b[38;5;241m.\u001b[39mbind(\u001b[38;5;241m*\u001b[39margs, \u001b[38;5;241m*\u001b[39m\u001b[38;5;241m*\u001b[39mkwargs)\n\u001b[1;32m    138\u001b[0m flat_inputs \u001b[38;5;241m=\u001b[39m function\u001b[38;5;241m.\u001b[39mfunction_type\u001b[38;5;241m.\u001b[39munpack_inputs(bound_args)\n\u001b[0;32m--> 139\u001b[0m \u001b[38;5;28;01mreturn\u001b[39;00m \u001b[43mfunction\u001b[49m\u001b[38;5;241;43m.\u001b[39;49m\u001b[43m_call_flat\u001b[49m\u001b[43m(\u001b[49m\u001b[43m  \u001b[49m\u001b[38;5;66;43;03m# pylint: disable=protected-access\u001b[39;49;00m\n\u001b[1;32m    140\u001b[0m \u001b[43m    \u001b[49m\u001b[43mflat_inputs\u001b[49m\u001b[43m,\u001b[49m\u001b[43m \u001b[49m\u001b[43mcaptured_inputs\u001b[49m\u001b[38;5;241;43m=\u001b[39;49m\u001b[43mfunction\u001b[49m\u001b[38;5;241;43m.\u001b[39;49m\u001b[43mcaptured_inputs\u001b[49m\n\u001b[1;32m    141\u001b[0m \u001b[43m\u001b[49m\u001b[43m)\u001b[49m\n",
      "File \u001b[0;32m/opt/homebrew/Caskroom/miniconda/base/lib/python3.10/site-packages/tensorflow/python/eager/polymorphic_function/concrete_function.py:1264\u001b[0m, in \u001b[0;36mConcreteFunction._call_flat\u001b[0;34m(self, tensor_inputs, captured_inputs)\u001b[0m\n\u001b[1;32m   1260\u001b[0m possible_gradient_type \u001b[38;5;241m=\u001b[39m gradients_util\u001b[38;5;241m.\u001b[39mPossibleTapeGradientTypes(args)\n\u001b[1;32m   1261\u001b[0m \u001b[38;5;28;01mif\u001b[39;00m (possible_gradient_type \u001b[38;5;241m==\u001b[39m gradients_util\u001b[38;5;241m.\u001b[39mPOSSIBLE_GRADIENT_TYPES_NONE\n\u001b[1;32m   1262\u001b[0m     \u001b[38;5;129;01mand\u001b[39;00m executing_eagerly):\n\u001b[1;32m   1263\u001b[0m   \u001b[38;5;66;03m# No tape is watching; skip to running the function.\u001b[39;00m\n\u001b[0;32m-> 1264\u001b[0m   \u001b[38;5;28;01mreturn\u001b[39;00m \u001b[38;5;28;43mself\u001b[39;49m\u001b[38;5;241;43m.\u001b[39;49m\u001b[43m_inference_function\u001b[49m\u001b[38;5;241;43m.\u001b[39;49m\u001b[43mflat_call\u001b[49m\u001b[43m(\u001b[49m\u001b[43margs\u001b[49m\u001b[43m)\u001b[49m\n\u001b[1;32m   1265\u001b[0m forward_backward \u001b[38;5;241m=\u001b[39m \u001b[38;5;28mself\u001b[39m\u001b[38;5;241m.\u001b[39m_select_forward_and_backward_functions(\n\u001b[1;32m   1266\u001b[0m     args,\n\u001b[1;32m   1267\u001b[0m     possible_gradient_type,\n\u001b[1;32m   1268\u001b[0m     executing_eagerly)\n\u001b[1;32m   1269\u001b[0m forward_function, args_with_tangents \u001b[38;5;241m=\u001b[39m forward_backward\u001b[38;5;241m.\u001b[39mforward()\n",
      "File \u001b[0;32m/opt/homebrew/Caskroom/miniconda/base/lib/python3.10/site-packages/tensorflow/python/eager/polymorphic_function/atomic_function.py:217\u001b[0m, in \u001b[0;36mAtomicFunction.flat_call\u001b[0;34m(self, args)\u001b[0m\n\u001b[1;32m    215\u001b[0m \u001b[38;5;28;01mdef\u001b[39;00m \u001b[38;5;21mflat_call\u001b[39m(\u001b[38;5;28mself\u001b[39m, args: Sequence[core\u001b[38;5;241m.\u001b[39mTensor]) \u001b[38;5;241m-\u001b[39m\u001b[38;5;241m>\u001b[39m Any:\n\u001b[1;32m    216\u001b[0m   \u001b[38;5;124;03m\"\"\"Calls with tensor inputs and returns the structured output.\"\"\"\u001b[39;00m\n\u001b[0;32m--> 217\u001b[0m   flat_outputs \u001b[38;5;241m=\u001b[39m \u001b[38;5;28;43mself\u001b[39;49m\u001b[43m(\u001b[49m\u001b[38;5;241;43m*\u001b[39;49m\u001b[43margs\u001b[49m\u001b[43m)\u001b[49m\n\u001b[1;32m    218\u001b[0m   \u001b[38;5;28;01mreturn\u001b[39;00m \u001b[38;5;28mself\u001b[39m\u001b[38;5;241m.\u001b[39mfunction_type\u001b[38;5;241m.\u001b[39mpack_output(flat_outputs)\n",
      "File \u001b[0;32m/opt/homebrew/Caskroom/miniconda/base/lib/python3.10/site-packages/tensorflow/python/eager/polymorphic_function/atomic_function.py:252\u001b[0m, in \u001b[0;36mAtomicFunction.__call__\u001b[0;34m(self, *args)\u001b[0m\n\u001b[1;32m    250\u001b[0m \u001b[38;5;28;01mwith\u001b[39;00m record\u001b[38;5;241m.\u001b[39mstop_recording():\n\u001b[1;32m    251\u001b[0m   \u001b[38;5;28;01mif\u001b[39;00m \u001b[38;5;28mself\u001b[39m\u001b[38;5;241m.\u001b[39m_bound_context\u001b[38;5;241m.\u001b[39mexecuting_eagerly():\n\u001b[0;32m--> 252\u001b[0m     outputs \u001b[38;5;241m=\u001b[39m \u001b[38;5;28;43mself\u001b[39;49m\u001b[38;5;241;43m.\u001b[39;49m\u001b[43m_bound_context\u001b[49m\u001b[38;5;241;43m.\u001b[39;49m\u001b[43mcall_function\u001b[49m\u001b[43m(\u001b[49m\n\u001b[1;32m    253\u001b[0m \u001b[43m        \u001b[49m\u001b[38;5;28;43mself\u001b[39;49m\u001b[38;5;241;43m.\u001b[39;49m\u001b[43mname\u001b[49m\u001b[43m,\u001b[49m\n\u001b[1;32m    254\u001b[0m \u001b[43m        \u001b[49m\u001b[38;5;28;43mlist\u001b[39;49m\u001b[43m(\u001b[49m\u001b[43margs\u001b[49m\u001b[43m)\u001b[49m\u001b[43m,\u001b[49m\n\u001b[1;32m    255\u001b[0m \u001b[43m        \u001b[49m\u001b[38;5;28;43mlen\u001b[39;49m\u001b[43m(\u001b[49m\u001b[38;5;28;43mself\u001b[39;49m\u001b[38;5;241;43m.\u001b[39;49m\u001b[43mfunction_type\u001b[49m\u001b[38;5;241;43m.\u001b[39;49m\u001b[43mflat_outputs\u001b[49m\u001b[43m)\u001b[49m\u001b[43m,\u001b[49m\n\u001b[1;32m    256\u001b[0m \u001b[43m    \u001b[49m\u001b[43m)\u001b[49m\n\u001b[1;32m    257\u001b[0m   \u001b[38;5;28;01melse\u001b[39;00m:\n\u001b[1;32m    258\u001b[0m     outputs \u001b[38;5;241m=\u001b[39m make_call_op_in_graph(\n\u001b[1;32m    259\u001b[0m         \u001b[38;5;28mself\u001b[39m,\n\u001b[1;32m    260\u001b[0m         \u001b[38;5;28mlist\u001b[39m(args),\n\u001b[1;32m    261\u001b[0m         \u001b[38;5;28mself\u001b[39m\u001b[38;5;241m.\u001b[39m_bound_context\u001b[38;5;241m.\u001b[39mfunction_call_options\u001b[38;5;241m.\u001b[39mas_attrs(),\n\u001b[1;32m    262\u001b[0m     )\n",
      "File \u001b[0;32m/opt/homebrew/Caskroom/miniconda/base/lib/python3.10/site-packages/tensorflow/python/eager/context.py:1479\u001b[0m, in \u001b[0;36mContext.call_function\u001b[0;34m(self, name, tensor_inputs, num_outputs)\u001b[0m\n\u001b[1;32m   1477\u001b[0m cancellation_context \u001b[38;5;241m=\u001b[39m cancellation\u001b[38;5;241m.\u001b[39mcontext()\n\u001b[1;32m   1478\u001b[0m \u001b[38;5;28;01mif\u001b[39;00m cancellation_context \u001b[38;5;129;01mis\u001b[39;00m \u001b[38;5;28;01mNone\u001b[39;00m:\n\u001b[0;32m-> 1479\u001b[0m   outputs \u001b[38;5;241m=\u001b[39m \u001b[43mexecute\u001b[49m\u001b[38;5;241;43m.\u001b[39;49m\u001b[43mexecute\u001b[49m\u001b[43m(\u001b[49m\n\u001b[1;32m   1480\u001b[0m \u001b[43m      \u001b[49m\u001b[43mname\u001b[49m\u001b[38;5;241;43m.\u001b[39;49m\u001b[43mdecode\u001b[49m\u001b[43m(\u001b[49m\u001b[38;5;124;43m\"\u001b[39;49m\u001b[38;5;124;43mutf-8\u001b[39;49m\u001b[38;5;124;43m\"\u001b[39;49m\u001b[43m)\u001b[49m\u001b[43m,\u001b[49m\n\u001b[1;32m   1481\u001b[0m \u001b[43m      \u001b[49m\u001b[43mnum_outputs\u001b[49m\u001b[38;5;241;43m=\u001b[39;49m\u001b[43mnum_outputs\u001b[49m\u001b[43m,\u001b[49m\n\u001b[1;32m   1482\u001b[0m \u001b[43m      \u001b[49m\u001b[43minputs\u001b[49m\u001b[38;5;241;43m=\u001b[39;49m\u001b[43mtensor_inputs\u001b[49m\u001b[43m,\u001b[49m\n\u001b[1;32m   1483\u001b[0m \u001b[43m      \u001b[49m\u001b[43mattrs\u001b[49m\u001b[38;5;241;43m=\u001b[39;49m\u001b[43mattrs\u001b[49m\u001b[43m,\u001b[49m\n\u001b[1;32m   1484\u001b[0m \u001b[43m      \u001b[49m\u001b[43mctx\u001b[49m\u001b[38;5;241;43m=\u001b[39;49m\u001b[38;5;28;43mself\u001b[39;49m\u001b[43m,\u001b[49m\n\u001b[1;32m   1485\u001b[0m \u001b[43m  \u001b[49m\u001b[43m)\u001b[49m\n\u001b[1;32m   1486\u001b[0m \u001b[38;5;28;01melse\u001b[39;00m:\n\u001b[1;32m   1487\u001b[0m   outputs \u001b[38;5;241m=\u001b[39m execute\u001b[38;5;241m.\u001b[39mexecute_with_cancellation(\n\u001b[1;32m   1488\u001b[0m       name\u001b[38;5;241m.\u001b[39mdecode(\u001b[38;5;124m\"\u001b[39m\u001b[38;5;124mutf-8\u001b[39m\u001b[38;5;124m\"\u001b[39m),\n\u001b[1;32m   1489\u001b[0m       num_outputs\u001b[38;5;241m=\u001b[39mnum_outputs,\n\u001b[0;32m   (...)\u001b[0m\n\u001b[1;32m   1493\u001b[0m       cancellation_manager\u001b[38;5;241m=\u001b[39mcancellation_context,\n\u001b[1;32m   1494\u001b[0m   )\n",
      "File \u001b[0;32m/opt/homebrew/Caskroom/miniconda/base/lib/python3.10/site-packages/tensorflow/python/eager/execute.py:60\u001b[0m, in \u001b[0;36mquick_execute\u001b[0;34m(op_name, num_outputs, inputs, attrs, ctx, name)\u001b[0m\n\u001b[1;32m     53\u001b[0m   \u001b[38;5;66;03m# Convert any objects of type core_types.Tensor to Tensor.\u001b[39;00m\n\u001b[1;32m     54\u001b[0m   inputs \u001b[38;5;241m=\u001b[39m [\n\u001b[1;32m     55\u001b[0m       tensor_conversion_registry\u001b[38;5;241m.\u001b[39mconvert(t)\n\u001b[1;32m     56\u001b[0m       \u001b[38;5;28;01mif\u001b[39;00m \u001b[38;5;28misinstance\u001b[39m(t, core_types\u001b[38;5;241m.\u001b[39mTensor)\n\u001b[1;32m     57\u001b[0m       \u001b[38;5;28;01melse\u001b[39;00m t\n\u001b[1;32m     58\u001b[0m       \u001b[38;5;28;01mfor\u001b[39;00m t \u001b[38;5;129;01min\u001b[39;00m inputs\n\u001b[1;32m     59\u001b[0m   ]\n\u001b[0;32m---> 60\u001b[0m   tensors \u001b[38;5;241m=\u001b[39m \u001b[43mpywrap_tfe\u001b[49m\u001b[38;5;241;43m.\u001b[39;49m\u001b[43mTFE_Py_Execute\u001b[49m\u001b[43m(\u001b[49m\u001b[43mctx\u001b[49m\u001b[38;5;241;43m.\u001b[39;49m\u001b[43m_handle\u001b[49m\u001b[43m,\u001b[49m\u001b[43m \u001b[49m\u001b[43mdevice_name\u001b[49m\u001b[43m,\u001b[49m\u001b[43m \u001b[49m\u001b[43mop_name\u001b[49m\u001b[43m,\u001b[49m\n\u001b[1;32m     61\u001b[0m \u001b[43m                                      \u001b[49m\u001b[43minputs\u001b[49m\u001b[43m,\u001b[49m\u001b[43m \u001b[49m\u001b[43mattrs\u001b[49m\u001b[43m,\u001b[49m\u001b[43m \u001b[49m\u001b[43mnum_outputs\u001b[49m\u001b[43m)\u001b[49m\n\u001b[1;32m     62\u001b[0m \u001b[38;5;28;01mexcept\u001b[39;00m core\u001b[38;5;241m.\u001b[39m_NotOkStatusException \u001b[38;5;28;01mas\u001b[39;00m e:\n\u001b[1;32m     63\u001b[0m   \u001b[38;5;28;01mif\u001b[39;00m name \u001b[38;5;129;01mis\u001b[39;00m \u001b[38;5;129;01mnot\u001b[39;00m \u001b[38;5;28;01mNone\u001b[39;00m:\n",
      "\u001b[0;31mKeyboardInterrupt\u001b[0m: "
     ]
    }
   ],
   "source": [
    "# Train the model\n",
    "model_history = model.fit(\n",
    "    X_train,\n",
    "    y_train,\n",
    "    batch_size = 64,\n",
    "    epochs=25,\n",
    "    validation_data=(X_test, y_test)\n",
    ")"
   ]
  },
  {
   "cell_type": "code",
   "execution_count": null,
   "id": "948d9a63",
   "metadata": {},
   "outputs": [],
   "source": [
    "# model_history"
   ]
  },
  {
   "cell_type": "markdown",
   "id": "d5839f1b",
   "metadata": {},
   "source": [
    "### Optimizing"
   ]
  },
  {
   "cell_type": "code",
   "execution_count": 246,
   "id": "ab43775c",
   "metadata": {},
   "outputs": [],
   "source": [
    "from kerastuner.tuners import RandomSearch"
   ]
  },
  {
   "cell_type": "code",
   "execution_count": 247,
   "id": "502da5a4",
   "metadata": {},
   "outputs": [],
   "source": [
    "# Define the hypermodel\n",
    "def build_model(hp):\n",
    "    model = Sequential()\n",
    "    model.add(Embedding(vocab_size, hp.Int('embedding_dim', min_value=50, max_value=300, step=50), input_length=max_length))\n",
    "    model.add(Bidirectional(LSTM(hp.Int('lstm_units', min_value=32, max_value=128, step=32), dropout=hp.Float('lstm_dropout', min_value=0.2, max_value=0.5, step=0.1), recurrent_dropout=hp.Float('recurrent_dropout', min_value=0.2, max_value=0.5, step=0.1))))\n",
    "    model.add(Dropout(hp.Float('dropout_1', min_value=0.2, max_value=0.5, step=0.1)))\n",
    "    model.add(Dense(hp.Int('dense_units', min_value=64, max_value=256, step=32), activation=\"relu\"))\n",
    "    model.add(Dropout(hp.Float('dropout_2', min_value=0.2, max_value=0.5, step=0.1)))\n",
    "    model.add(Dense(3, activation=\"softmax\"))\n",
    "\n",
    "    model.compile(optimizer='adam', loss='categorical_crossentropy', metrics=['accuracy', f1, precision, recall])\n",
    "    \n",
    "    return model"
   ]
  },
  {
   "cell_type": "code",
   "execution_count": 248,
   "id": "c16a1fd3",
   "metadata": {},
   "outputs": [
    {
     "name": "stdout",
     "output_type": "stream",
     "text": [
      "Reloading Tuner from my_dir/hate_speech/tuner0.json\n"
     ]
    }
   ],
   "source": [
    "# Instantiate the tuner\n",
    "tuner = RandomSearch(\n",
    "    build_model,\n",
    "    objective='val_accuracy',\n",
    "    max_trials=5, \n",
    "    directory='my_dir',\n",
    "    project_name='hate_speech'\n",
    ")"
   ]
  },
  {
   "cell_type": "code",
   "execution_count": 250,
   "id": "0e7f13a6",
   "metadata": {},
   "outputs": [],
   "source": [
    "# Search for the best hyperparameter configuration\n",
    "tuner.search(X_train, y_train, epochs=5, validation_data=(X_test, y_test))"
   ]
  },
  {
   "cell_type": "code",
   "execution_count": 251,
   "id": "210280f0",
   "metadata": {},
   "outputs": [],
   "source": [
    "# Get the best model\n",
    "lstm_best_model = tuner.get_best_models(num_models=1)[0]"
   ]
  },
  {
   "cell_type": "code",
   "execution_count": 280,
   "id": "cfff02b3",
   "metadata": {},
   "outputs": [
    {
     "name": "stdout",
     "output_type": "stream",
     "text": [
      "Epoch 1/25\n",
      "647/647 [==============================] - 94s 145ms/step - loss: 0.0094 - accuracy: 0.9972 - f1: 0.9972 - precision: 0.9972 - recall: 0.9972 - val_loss: 1.1535 - val_accuracy: 0.8612 - val_f1: 0.8611 - val_precision: 0.8616 - val_recall: 0.8607\n",
      "Epoch 2/25\n",
      "647/647 [==============================] - 4613s 7s/step - loss: 0.0096 - accuracy: 0.9965 - f1: 0.9964 - precision: 0.9965 - recall: 0.9964 - val_loss: 1.1685 - val_accuracy: 0.8496 - val_f1: 0.8495 - val_precision: 0.8497 - val_recall: 0.8493\n",
      "Epoch 3/25\n",
      "647/647 [==============================] - 120s 185ms/step - loss: 0.0099 - accuracy: 0.9966 - f1: 0.9966 - precision: 0.9966 - recall: 0.9966 - val_loss: 1.2025 - val_accuracy: 0.8606 - val_f1: 0.8609 - val_precision: 0.8611 - val_recall: 0.8606\n",
      "Epoch 4/25\n",
      "647/647 [==============================] - 99s 153ms/step - loss: 0.0099 - accuracy: 0.9966 - f1: 0.9966 - precision: 0.9967 - recall: 0.9966 - val_loss: 1.1989 - val_accuracy: 0.8521 - val_f1: 0.8526 - val_precision: 0.8528 - val_recall: 0.8523\n",
      "Epoch 5/25\n",
      "647/647 [==============================] - 98s 152ms/step - loss: 0.0091 - accuracy: 0.9975 - f1: 0.9975 - precision: 0.9976 - recall: 0.9974 - val_loss: 1.1174 - val_accuracy: 0.8579 - val_f1: 0.8581 - val_precision: 0.8586 - val_recall: 0.8576\n",
      "Epoch 6/25\n",
      "647/647 [==============================] - 96s 148ms/step - loss: 0.0067 - accuracy: 0.9978 - f1: 0.9979 - precision: 0.9980 - recall: 0.9977 - val_loss: 1.2412 - val_accuracy: 0.8511 - val_f1: 0.8513 - val_precision: 0.8515 - val_recall: 0.8511\n",
      "Epoch 7/25\n",
      "647/647 [==============================] - 98s 152ms/step - loss: 0.0067 - accuracy: 0.9974 - f1: 0.9973 - precision: 0.9974 - recall: 0.9973 - val_loss: 1.3343 - val_accuracy: 0.8467 - val_f1: 0.8469 - val_precision: 0.8469 - val_recall: 0.8469\n",
      "Epoch 8/25\n",
      "647/647 [==============================] - 98s 152ms/step - loss: 0.0070 - accuracy: 0.9979 - f1: 0.9979 - precision: 0.9979 - recall: 0.9979 - val_loss: 1.3927 - val_accuracy: 0.8538 - val_f1: 0.8541 - val_precision: 0.8542 - val_recall: 0.8541\n",
      "Epoch 9/25\n",
      "647/647 [==============================] - 97s 150ms/step - loss: 0.0058 - accuracy: 0.9980 - f1: 0.9980 - precision: 0.9980 - recall: 0.9980 - val_loss: 1.2662 - val_accuracy: 0.8538 - val_f1: 0.8541 - val_precision: 0.8544 - val_recall: 0.8538\n",
      "Epoch 10/25\n",
      "647/647 [==============================] - 98s 151ms/step - loss: 0.0055 - accuracy: 0.9978 - f1: 0.9978 - precision: 0.9978 - recall: 0.9977 - val_loss: 1.4392 - val_accuracy: 0.8550 - val_f1: 0.8554 - val_precision: 0.8555 - val_recall: 0.8553\n",
      "Epoch 11/25\n",
      "647/647 [==============================] - 97s 151ms/step - loss: 0.0071 - accuracy: 0.9976 - f1: 0.9976 - precision: 0.9976 - recall: 0.9975 - val_loss: 1.4661 - val_accuracy: 0.8538 - val_f1: 0.8541 - val_precision: 0.8543 - val_recall: 0.8540\n",
      "Epoch 12/25\n",
      "647/647 [==============================] - 98s 151ms/step - loss: 0.0043 - accuracy: 0.9986 - f1: 0.9986 - precision: 0.9986 - recall: 0.9986 - val_loss: 1.5889 - val_accuracy: 0.8500 - val_f1: 0.8503 - val_precision: 0.8503 - val_recall: 0.8502\n",
      "Epoch 13/25\n",
      "647/647 [==============================] - 98s 152ms/step - loss: 0.0070 - accuracy: 0.9979 - f1: 0.9979 - precision: 0.9980 - recall: 0.9979 - val_loss: 1.4920 - val_accuracy: 0.8463 - val_f1: 0.8466 - val_precision: 0.8468 - val_recall: 0.8463\n",
      "Epoch 14/25\n",
      "647/647 [==============================] - 146s 226ms/step - loss: 0.0031 - accuracy: 0.9990 - f1: 0.9990 - precision: 0.9990 - recall: 0.9989 - val_loss: 1.7685 - val_accuracy: 0.8478 - val_f1: 0.8480 - val_precision: 0.8480 - val_recall: 0.8479\n",
      "Epoch 15/25\n",
      "647/647 [==============================] - 98s 152ms/step - loss: 0.0043 - accuracy: 0.9985 - f1: 0.9984 - precision: 0.9985 - recall: 0.9984 - val_loss: 1.6883 - val_accuracy: 0.8498 - val_f1: 0.8500 - val_precision: 0.8503 - val_recall: 0.8498\n",
      "Epoch 16/25\n",
      "647/647 [==============================] - 99s 153ms/step - loss: 0.0066 - accuracy: 0.9979 - f1: 0.9979 - precision: 0.9980 - recall: 0.9979 - val_loss: 1.4883 - val_accuracy: 0.8407 - val_f1: 0.8409 - val_precision: 0.8410 - val_recall: 0.8407\n",
      "Epoch 17/25\n",
      "647/647 [==============================] - 100s 155ms/step - loss: 0.0048 - accuracy: 0.9983 - f1: 0.9983 - precision: 0.9984 - recall: 0.9983 - val_loss: 1.6183 - val_accuracy: 0.8444 - val_f1: 0.8450 - val_precision: 0.8455 - val_recall: 0.8444\n",
      "Epoch 18/25\n",
      "647/647 [==============================] - 104s 161ms/step - loss: 0.0057 - accuracy: 0.9983 - f1: 0.9982 - precision: 0.9984 - recall: 0.9981 - val_loss: 1.4859 - val_accuracy: 0.8434 - val_f1: 0.8437 - val_precision: 0.8439 - val_recall: 0.8434\n",
      "Epoch 19/25\n",
      "647/647 [==============================] - 101s 156ms/step - loss: 0.0041 - accuracy: 0.9985 - f1: 0.9986 - precision: 0.9986 - recall: 0.9986 - val_loss: 1.5805 - val_accuracy: 0.8486 - val_f1: 0.8488 - val_precision: 0.8490 - val_recall: 0.8486\n",
      "Epoch 20/25\n",
      "647/647 [==============================] - 100s 155ms/step - loss: 0.0036 - accuracy: 0.9987 - f1: 0.9987 - precision: 0.9987 - recall: 0.9987 - val_loss: 1.6543 - val_accuracy: 0.8455 - val_f1: 0.8457 - val_precision: 0.8458 - val_recall: 0.8456\n",
      "Epoch 21/25\n",
      "647/647 [==============================] - 100s 155ms/step - loss: 0.0034 - accuracy: 0.9985 - f1: 0.9986 - precision: 0.9987 - recall: 0.9985 - val_loss: 1.7680 - val_accuracy: 0.8461 - val_f1: 0.8462 - val_precision: 0.8466 - val_recall: 0.8459\n",
      "Epoch 22/25\n",
      "647/647 [==============================] - 103s 159ms/step - loss: 0.0040 - accuracy: 0.9987 - f1: 0.9987 - precision: 0.9987 - recall: 0.9987 - val_loss: 1.6550 - val_accuracy: 0.8407 - val_f1: 0.8407 - val_precision: 0.8413 - val_recall: 0.8402\n",
      "Epoch 23/25\n",
      "647/647 [==============================] - 96s 148ms/step - loss: 0.0042 - accuracy: 0.9987 - f1: 0.9987 - precision: 0.9987 - recall: 0.9987 - val_loss: 1.7653 - val_accuracy: 0.8453 - val_f1: 0.8452 - val_precision: 0.8457 - val_recall: 0.8446\n",
      "Epoch 24/25\n",
      "647/647 [==============================] - 98s 152ms/step - loss: 0.0025 - accuracy: 0.9990 - f1: 0.9989 - precision: 0.9990 - recall: 0.9989 - val_loss: 1.9869 - val_accuracy: 0.8453 - val_f1: 0.8456 - val_precision: 0.8458 - val_recall: 0.8454\n",
      "Epoch 25/25\n",
      "647/647 [==============================] - 100s 154ms/step - loss: 0.0057 - accuracy: 0.9985 - f1: 0.9985 - precision: 0.9986 - recall: 0.9985 - val_loss: 1.7961 - val_accuracy: 0.8384 - val_f1: 0.8386 - val_precision: 0.8388 - val_recall: 0.8384\n"
     ]
    }
   ],
   "source": [
    "# Train the best model\n",
    "lstm_best_model_history = lstm_best_model.fit(X_train, y_train, epochs=25, validation_data=(X_test, y_test))"
   ]
  },
  {
   "cell_type": "code",
   "execution_count": 458,
   "id": "19de618a",
   "metadata": {},
   "outputs": [
    {
     "data": {
      "image/png": "[encoded data removed]",
      "text/plain": [
       "<Figure size 640x480 with 1 Axes>"
      ]
     },
     "metadata": {},
     "output_type": "display_data"
    },
    {
     "data": {
      "image/png": "[encoded data removed]",
      "text/plain": [
       "<Figure size 640x480 with 1 Axes>"
      ]
     },
     "metadata": {},
     "output_type": "display_data"
    }
   ],
   "source": [
    "acc = model_history.history['accuracy']\n",
    "val_acc = model_history.history['val_accuracy']\n",
    "loss = model_history.history['loss']\n",
    "val_loss = model_history.history['val_loss']\n",
    "epochs = range(1, len(acc) + 1)\n",
    "plt.plot(epochs, acc, 'bo', label='Training accuracy')\n",
    "plt.plot(epochs, val_acc, 'r', label='Validation accuracy')\n",
    "plt.title('Training and validation accuracy')\n",
    "plt.legend()\n",
    "plt.figure()\n",
    "plt.plot(epochs, loss, 'bo', label='Training loss')\n",
    "plt.plot(epochs, val_loss, 'r', label='Validation loss')\n",
    "plt.title('Training and validation loss')\n",
    "plt.legend()\n",
    "plt.show()"
   ]
  },
  {
   "cell_type": "markdown",
   "id": "04c1e4bb",
   "metadata": {},
   "source": [
    "###  GRU"
   ]
  },
  {
   "cell_type": "code",
   "execution_count": 253,
   "id": "9353a3f0",
   "metadata": {},
   "outputs": [
    {
     "name": "stdout",
     "output_type": "stream",
     "text": [
      "Reloading Tuner from my_gru_dir/hate_speech_gru/tuner0.json\n",
      "647/647 [==============================] - 160s 245ms/step - loss: 0.2239 - accuracy: 0.9225 - f1: 0.9219 - precision: 0.9287 - recall: 0.9155 - val_loss: 0.3133 - val_accuracy: 0.8757 - val_f1: 0.8766 - val_precision: 0.8818 - val_recall: 0.8715\n"
     ]
    }
   ],
   "source": [
    "from tensorflow.keras.layers import GRU\n",
    "\n",
    "# Define the hypermodel for GRU\n",
    "def build_gru_model(hp):\n",
    "    model = Sequential()\n",
    "    model.add(Embedding(vocab_size, hp.Int('embedding_dim', min_value=50, max_value=300, step=50), input_length=max_length))\n",
    "    model.add(Bidirectional(GRU(hp.Int('gru_units', min_value=32, max_value=128, step=32), dropout=hp.Float('gru_dropout', min_value=0.2, max_value=0.5, step=0.1), recurrent_dropout=hp.Float('recurrent_dropout', min_value=0.2, max_value=0.5, step=0.1))))\n",
    "    model.add(Dropout(hp.Float('dropout_1', min_value=0.2, max_value=0.5, step=0.1)))\n",
    "    model.add(Dense(hp.Int('dense_units', min_value=64, max_value=256, step=32), activation=\"relu\"))\n",
    "    model.add(Dropout(hp.Float('dropout_2', min_value=0.2, max_value=0.5, step=0.1)))\n",
    "    model.add(Dense(3, activation=\"softmax\"))\n",
    "\n",
    "    model.compile(optimizer='adam', loss='categorical_crossentropy', metrics=['accuracy', f1, precision, recall])\n",
    "    \n",
    "    return model\n",
    "\n",
    "# Instantiate the tuner for GRU\n",
    "gru_tuner = RandomSearch(\n",
    "    build_gru_model,\n",
    "    objective='val_accuracy',\n",
    "    max_trials=5,\n",
    "    directory='my_gru_dir',\n",
    "    project_name='hate_speech_gru'\n",
    ")\n",
    "\n",
    "# Search for the best hyperparameter configuration for GRU\n",
    "gru_tuner.search(X_train, y_train, epochs=5, validation_data=(X_test, y_test))\n",
    "\n",
    "# Get the best GRU model\n",
    "best_gru_model = gru_tuner.get_best_models(num_models=1)[0]\n",
    "\n",
    "# Train the best GRU model\n",
    "# best_gru_model_history = best_gru_model.fit(X_train, y_train, epochs=25, validation_data=(X_test, y_test))"
   ]
  },
  {
   "cell_type": "code",
   "execution_count": 281,
   "id": "1ce5cc7a",
   "metadata": {},
   "outputs": [
    {
     "name": "stdout",
     "output_type": "stream",
     "text": [
      "Epoch 1/25\n",
      "647/647 [==============================] - 165s 255ms/step - loss: 0.1314 - accuracy: 0.9562 - f1: 0.9563 - precision: 0.9574 - recall: 0.9553 - val_loss: 0.4265 - val_accuracy: 0.8836 - val_f1: 0.8841 - val_precision: 0.8854 - val_recall: 0.8827\n",
      "Epoch 2/25\n",
      "647/647 [==============================] - 168s 260ms/step - loss: 0.0702 - accuracy: 0.9776 - f1: 0.9778 - precision: 0.9781 - recall: 0.9775 - val_loss: 0.5460 - val_accuracy: 0.8685 - val_f1: 0.8692 - val_precision: 0.8702 - val_recall: 0.8682\n",
      "Epoch 3/25\n",
      "647/647 [==============================] - 168s 259ms/step - loss: 0.0449 - accuracy: 0.9850 - f1: 0.9851 - precision: 0.9851 - recall: 0.9850 - val_loss: 0.6317 - val_accuracy: 0.8610 - val_f1: 0.8615 - val_precision: 0.8617 - val_recall: 0.8613\n",
      "Epoch 4/25\n",
      "647/647 [==============================] - 169s 261ms/step - loss: 0.0318 - accuracy: 0.9888 - f1: 0.9887 - precision: 0.9888 - recall: 0.9886 - val_loss: 0.7266 - val_accuracy: 0.8660 - val_f1: 0.8662 - val_precision: 0.8666 - val_recall: 0.8657\n",
      "Epoch 5/25\n",
      "647/647 [==============================] - 171s 264ms/step - loss: 0.0232 - accuracy: 0.9925 - f1: 0.9925 - precision: 0.9925 - recall: 0.9924 - val_loss: 0.7631 - val_accuracy: 0.8670 - val_f1: 0.8672 - val_precision: 0.8676 - val_recall: 0.8669\n",
      "Epoch 6/25\n",
      "647/647 [==============================] - 166s 256ms/step - loss: 0.0206 - accuracy: 0.9930 - f1: 0.9930 - precision: 0.9931 - recall: 0.9929 - val_loss: 0.8380 - val_accuracy: 0.8598 - val_f1: 0.8601 - val_precision: 0.8603 - val_recall: 0.8600\n",
      "Epoch 7/25\n",
      "647/647 [==============================] - 168s 260ms/step - loss: 0.0186 - accuracy: 0.9944 - f1: 0.9944 - precision: 0.9944 - recall: 0.9943 - val_loss: 0.8077 - val_accuracy: 0.8699 - val_f1: 0.8699 - val_precision: 0.8703 - val_recall: 0.8696\n",
      "Epoch 8/25\n",
      "647/647 [==============================] - 164s 253ms/step - loss: 0.0157 - accuracy: 0.9950 - f1: 0.9950 - precision: 0.9950 - recall: 0.9950 - val_loss: 0.8719 - val_accuracy: 0.8606 - val_f1: 0.8611 - val_precision: 0.8614 - val_recall: 0.8607\n",
      "Epoch 9/25\n",
      "647/647 [==============================] - 161s 248ms/step - loss: 0.0135 - accuracy: 0.9950 - f1: 0.9951 - precision: 0.9951 - recall: 0.9950 - val_loss: 1.0172 - val_accuracy: 0.8639 - val_f1: 0.8642 - val_precision: 0.8644 - val_recall: 0.8640\n",
      "Epoch 10/25\n",
      "647/647 [==============================] - 162s 250ms/step - loss: 0.0102 - accuracy: 0.9966 - f1: 0.9966 - precision: 0.9966 - recall: 0.9966 - val_loss: 0.9855 - val_accuracy: 0.8573 - val_f1: 0.8578 - val_precision: 0.8581 - val_recall: 0.8574\n",
      "Epoch 11/25\n",
      "647/647 [==============================] - 162s 250ms/step - loss: 0.0129 - accuracy: 0.9962 - f1: 0.9962 - precision: 0.9962 - recall: 0.9962 - val_loss: 1.0310 - val_accuracy: 0.8608 - val_f1: 0.8610 - val_precision: 0.8613 - val_recall: 0.8607\n",
      "Epoch 12/25\n",
      "647/647 [==============================] - 162s 251ms/step - loss: 0.0110 - accuracy: 0.9966 - f1: 0.9965 - precision: 0.9966 - recall: 0.9965 - val_loss: 1.0944 - val_accuracy: 0.8534 - val_f1: 0.8534 - val_precision: 0.8540 - val_recall: 0.8529\n",
      "Epoch 13/25\n",
      "647/647 [==============================] - 162s 250ms/step - loss: 0.0102 - accuracy: 0.9968 - f1: 0.9968 - precision: 0.9969 - recall: 0.9967 - val_loss: 1.1331 - val_accuracy: 0.8565 - val_f1: 0.8564 - val_precision: 0.8569 - val_recall: 0.8558\n",
      "Epoch 14/25\n",
      "647/647 [==============================] - 161s 248ms/step - loss: 0.0089 - accuracy: 0.9974 - f1: 0.9974 - precision: 0.9974 - recall: 0.9973 - val_loss: 1.1098 - val_accuracy: 0.8560 - val_f1: 0.8566 - val_precision: 0.8571 - val_recall: 0.8561\n",
      "Epoch 15/25\n",
      "647/647 [==============================] - 569s 881ms/step - loss: 0.0083 - accuracy: 0.9970 - f1: 0.9970 - precision: 0.9971 - recall: 0.9969 - val_loss: 1.0206 - val_accuracy: 0.8623 - val_f1: 0.8628 - val_precision: 0.8630 - val_recall: 0.8627\n",
      "Epoch 16/25\n",
      "647/647 [==============================] - 162s 251ms/step - loss: 0.0069 - accuracy: 0.9975 - f1: 0.9976 - precision: 0.9977 - recall: 0.9975 - val_loss: 1.4224 - val_accuracy: 0.8498 - val_f1: 0.8499 - val_precision: 0.8501 - val_recall: 0.8498\n",
      "Epoch 17/25\n",
      "647/647 [==============================] - 165s 255ms/step - loss: 0.0081 - accuracy: 0.9975 - f1: 0.9975 - precision: 0.9975 - recall: 0.9974 - val_loss: 1.3154 - val_accuracy: 0.8538 - val_f1: 0.8539 - val_precision: 0.8541 - val_recall: 0.8538\n",
      "Epoch 18/25\n",
      "647/647 [==============================] - 163s 253ms/step - loss: 0.0080 - accuracy: 0.9972 - f1: 0.9972 - precision: 0.9973 - recall: 0.9972 - val_loss: 1.1283 - val_accuracy: 0.8558 - val_f1: 0.8561 - val_precision: 0.8565 - val_recall: 0.8557\n",
      "Epoch 19/25\n",
      "647/647 [==============================] - 166s 257ms/step - loss: 0.0080 - accuracy: 0.9971 - f1: 0.9972 - precision: 0.9974 - recall: 0.9971 - val_loss: 1.2630 - val_accuracy: 0.8519 - val_f1: 0.8524 - val_precision: 0.8526 - val_recall: 0.8522\n",
      "Epoch 20/25\n",
      "647/647 [==============================] - 165s 255ms/step - loss: 0.0065 - accuracy: 0.9974 - f1: 0.9974 - precision: 0.9975 - recall: 0.9973 - val_loss: 1.3145 - val_accuracy: 0.8473 - val_f1: 0.8473 - val_precision: 0.8473 - val_recall: 0.8472\n",
      "Epoch 21/25\n",
      "647/647 [==============================] - 163s 252ms/step - loss: 0.0068 - accuracy: 0.9980 - f1: 0.9979 - precision: 0.9981 - recall: 0.9978 - val_loss: 1.2440 - val_accuracy: 0.8523 - val_f1: 0.8526 - val_precision: 0.8529 - val_recall: 0.8522\n",
      "Epoch 22/25\n",
      "647/647 [==============================] - 162s 250ms/step - loss: 0.0057 - accuracy: 0.9979 - f1: 0.9979 - precision: 0.9979 - recall: 0.9979 - val_loss: 1.2978 - val_accuracy: 0.8478 - val_f1: 0.8481 - val_precision: 0.8486 - val_recall: 0.8476\n",
      "Epoch 23/25\n",
      "647/647 [==============================] - 163s 251ms/step - loss: 0.0046 - accuracy: 0.9982 - f1: 0.9981 - precision: 0.9982 - recall: 0.9980 - val_loss: 1.3033 - val_accuracy: 0.8455 - val_f1: 0.8458 - val_precision: 0.8458 - val_recall: 0.8458\n",
      "Epoch 24/25\n",
      "647/647 [==============================] - 163s 252ms/step - loss: 0.0051 - accuracy: 0.9983 - f1: 0.9983 - precision: 0.9984 - recall: 0.9982 - val_loss: 1.4615 - val_accuracy: 0.8538 - val_f1: 0.8537 - val_precision: 0.8538 - val_recall: 0.8536\n",
      "Epoch 25/25\n",
      "647/647 [==============================] - 161s 249ms/step - loss: 0.0061 - accuracy: 0.9978 - f1: 0.9977 - precision: 0.9978 - recall: 0.9976 - val_loss: 1.3659 - val_accuracy: 0.8540 - val_f1: 0.8545 - val_precision: 0.8547 - val_recall: 0.8542\n"
     ]
    }
   ],
   "source": [
    "# Train the best GRU model\n",
    "best_gru_model_history = best_gru_model.fit(X_train, y_train, epochs=25, validation_data=(X_test, y_test))"
   ]
  },
  {
   "cell_type": "code",
   "execution_count": 285,
   "id": "cc925a44",
   "metadata": {},
   "outputs": [
    {
     "data": {
      "image/png": "[encoded data removed]",
      "text/plain": [
       "<Figure size 640x480 with 1 Axes>"
      ]
     },
     "metadata": {},
     "output_type": "display_data"
    },
    {
     "data": {
      "image/png": "[encoded data removed]",
      "text/plain": [
       "<Figure size 640x480 with 1 Axes>"
      ]
     },
     "metadata": {},
     "output_type": "display_data"
    }
   ],
   "source": [
    "acc = best_gru_model_history.history['accuracy']\n",
    "val_acc = best_gru_model_history.history['val_accuracy']\n",
    "loss = best_gru_model_history.history['loss']\n",
    "val_loss = best_gru_model_history.history['val_loss']\n",
    "epochs = range(1, len(acc) + 1)\n",
    "plt.plot(epochs, acc, 'bo', label='Training accuracy')\n",
    "plt.plot(epochs, val_acc, 'r', label='Validation accuracy')\n",
    "plt.title('Training and validation accuracy')\n",
    "plt.legend()\n",
    "plt.figure()\n",
    "plt.plot(epochs, loss, 'bo', label='Training loss')\n",
    "plt.plot(epochs, val_loss, 'r', label='Validation loss')\n",
    "plt.title('Training and validation loss')\n",
    "plt.legend()\n",
    "plt.show()"
   ]
  },
  {
   "cell_type": "markdown",
   "id": "2ab8bed8",
   "metadata": {},
   "source": [
    "### Evaluation"
   ]
  },
  {
   "cell_type": "code",
   "execution_count": 254,
   "id": "72f77e11",
   "metadata": {},
   "outputs": [],
   "source": [
    "from sklearn.metrics import confusion_matrix, classification_report\n",
    "import seaborn as sns\n",
    "import matplotlib.pyplot as plt"
   ]
  },
  {
   "cell_type": "code",
   "execution_count": 255,
   "id": "6bd202c5",
   "metadata": {},
   "outputs": [
    {
     "name": "stdout",
     "output_type": "stream",
     "text": [
      "162/162 [==============================] - 2s 11ms/step - loss: 1.1979 - accuracy: 0.8515 - f1: 0.8516 - precision: 0.8517 - recall: 0.8515\n",
      "162/162 [==============================] - 2s 11ms/step\n"
     ]
    },
    {
     "data": {
      "image/png": "[encoded data removed]",
      "text/plain": [
       "<Figure size 800x600 with 1 Axes>"
      ]
     },
     "metadata": {},
     "output_type": "display_data"
    },
    {
     "name": "stdout",
     "output_type": "stream",
     "text": [
      "Classification Report - LSTM Model:\n",
      "              precision    recall  f1-score   support\n",
      "\n",
      "     Class 0       0.32      0.28      0.30       347\n",
      "     Class 1       0.92      0.91      0.91      3854\n",
      "     Class 2       0.77      0.82      0.79       971\n",
      "\n",
      "    accuracy                           0.85      5172\n",
      "   macro avg       0.67      0.67      0.67      5172\n",
      "weighted avg       0.85      0.85      0.85      5172\n",
      "\n",
      "LSTM Model Evaluation Metrics:\n",
      "Loss: 1.1978824138641357\n",
      "Accuracy: 0.8515081405639648\n",
      "F1 Score: 0.8516287803649902\n",
      "Precision: 0.851717472076416\n",
      "Recall: 0.8515431880950928\n"
     ]
    }
   ],
   "source": [
    "# Evaluate the best LSTM model\n",
    "lstm_model_evaluation = best_model.evaluate(X_test, y_test)\n",
    "\n",
    "# Make predictions on the test data\n",
    "y_pred_lstm = best_model.predict(X_test)\n",
    "\n",
    "# Convert predictions to class labels\n",
    "y_pred_labels_lstm = np.argmax(y_pred_lstm, axis=1)\n",
    "\n",
    "# Convert one-hot encoded labels to class labels\n",
    "y_true_labels = np.argmax(y_test, axis=1)\n",
    "\n",
    "# Create a confusion matrix\n",
    "conf_matrix = confusion_matrix(y_true_labels, y_pred_labels_lstm)\n",
    "\n",
    "# Display the confusion matrix using seaborn\n",
    "plt.figure(figsize=(8, 6))\n",
    "sns.heatmap(conf_matrix, annot=True, fmt='d', cmap='Blues', cbar=False,\n",
    "            xticklabels=['hate speech', 'offensive speech', 'neither'],\n",
    "            yticklabels=['hate speech', 'offensive speech', 'neither'])\n",
    "plt.xlabel('Predicted')\n",
    "plt.ylabel('True')\n",
    "plt.title('Confusion Matrix - LSTM Model')\n",
    "plt.show()\n",
    "\n",
    "# Display classification report\n",
    "class_report_gru = classification_report(y_true_labels, y_pred_labels_lstm, target_names=['Class 0', 'Class 1', 'Class 2'])\n",
    "print(\"Classification Report - LSTM Model:\")\n",
    "print(class_report_gru)\n",
    "\n",
    "# Display the evaluation metrics\n",
    "print(\"LSTM Model Evaluation Metrics:\")\n",
    "print(f\"Loss: {lstm_model_evaluation[0]}\")\n",
    "print(f\"Accuracy: {lstm_model_evaluation[1]}\")\n",
    "print(f\"F1 Score: {lstm_model_evaluation[2]}\")\n",
    "print(f\"Precision: {lstm_model_evaluation[3]}\")\n",
    "print(f\"Recall: {lstm_model_evaluation[4]}\")\n"
   ]
  },
  {
   "cell_type": "code",
   "execution_count": 258,
   "id": "dda44b7d",
   "metadata": {},
   "outputs": [
    {
     "name": "stdout",
     "output_type": "stream",
     "text": [
      "162/162 [==============================] - 5s 28ms/step - loss: 0.3133 - accuracy: 0.8757 - f1: 0.8766 - precision: 0.8818 - recall: 0.8715\n",
      "162/162 [==============================] - 5s 28ms/step\n"
     ]
    },
    {
     "data": {
      "image/png": "[encoded data removed]",
      "text/plain": [
       "<Figure size 800x600 with 1 Axes>"
      ]
     },
     "metadata": {},
     "output_type": "display_data"
    },
    {
     "name": "stdout",
     "output_type": "stream",
     "text": [
      "Classification Report - GRU Model:\n",
      "              precision    recall  f1-score   support\n",
      "\n",
      "     Class 0       0.40      0.33      0.36       347\n",
      "     Class 1       0.91      0.95      0.93      3854\n",
      "     Class 2       0.86      0.77      0.81       971\n",
      "\n",
      "    accuracy                           0.88      5172\n",
      "   macro avg       0.72      0.68      0.70      5172\n",
      "weighted avg       0.87      0.88      0.87      5172\n",
      "\n",
      "GRU Model Evaluation Metrics:\n",
      "Loss: 0.31326910853385925\n",
      "Accuracy: 0.875676691532135\n",
      "F1 Score: 0.8765609264373779\n",
      "Precision: 0.8818032741546631\n",
      "Recall: 0.8715277910232544\n"
     ]
    }
   ],
   "source": [
    "# Evaluate the best GRU model\n",
    "gru_model_evaluation = best_gru_model.evaluate(X_test, y_test)\n",
    "\n",
    "# Make predictions on the test data\n",
    "y_pred_gru = best_gru_model.predict(X_test)\n",
    "\n",
    "# Convert predictions to class labels\n",
    "y_pred_labels_gru = np.argmax(y_pred_gru, axis=1)\n",
    "\n",
    "# Convert one-hot encoded labels to class labels\n",
    "y_true_labels = np.argmax(y_test, axis=1)\n",
    "\n",
    "# Create a confusion matrix\n",
    "conf_matrix_gru = confusion_matrix(y_true_labels, y_pred_labels_gru)\n",
    "\n",
    "# Display the confusion matrix using seaborn\n",
    "plt.figure(figsize=(8, 6))\n",
    "sns.heatmap(conf_matrix_gru, annot=True, fmt='d', cmap='Blues', cbar=False,\n",
    "            xticklabels=['hate speech', 'offensive speech', 'neither'],\n",
    "            yticklabels=['hate speech', 'offensive speech', 'neither'])\n",
    "plt.xlabel('Predicted')\n",
    "plt.ylabel('True')\n",
    "plt.title('Confusion Matrix - GRU Model')\n",
    "plt.show()\n",
    "\n",
    "# Display classification report\n",
    "class_report_gru = classification_report(y_true_labels, y_pred_labels_gru, target_names=['Class 0', 'Class 1', 'Class 2'])\n",
    "print(\"Classification Report - GRU Model:\")\n",
    "print(class_report_gru)\n",
    "\n",
    "# Display the evaluation metrics\n",
    "print(\"GRU Model Evaluation Metrics:\")\n",
    "print(f\"Loss: {gru_model_evaluation[0]}\")\n",
    "print(f\"Accuracy: {gru_model_evaluation[1]}\")\n",
    "print(f\"F1 Score: {gru_model_evaluation[2]}\")\n",
    "print(f\"Precision: {gru_model_evaluation[3]}\")\n",
    "print(f\"Recall: {gru_model_evaluation[4]}\")\n"
   ]
  },
  {
   "cell_type": "code",
   "execution_count": null,
   "id": "852cbe9d",
   "metadata": {},
   "outputs": [],
   "source": []
  },
  {
   "cell_type": "code",
   "execution_count": 256,
   "id": "fa042977",
   "metadata": {},
   "outputs": [],
   "source": [
    "def predict_category(text, model, max_length):\n",
    "    # Preprocess the input text\n",
    "    preprocessed_text = preprocess_text(text)\n",
    "    \n",
    "    tokenizer = Tokenizer()\n",
    "    tokenizer.fit_on_texts(text)\n",
    "\n",
    "    # tokenize the train and test dataset\n",
    "    X_input = tokenizer.texts_to_sequences(text)\n",
    "    X_input = pad_sequences(X_input, maxlen=max_length)\n",
    "\n",
    "    \n",
    "    prediction = model.predict(X_input)[0]\n",
    "\n",
    "    \n",
    "    predicted_label = np.argmax(prediction)\n",
    "\n",
    "    return predicted_label"
   ]
  },
  {
   "cell_type": "code",
   "execution_count": 272,
   "id": "3b9ec430",
   "metadata": {},
   "outputs": [
    {
     "name": "stdout",
     "output_type": "stream",
     "text": [
      "1/1 [==============================] - 0s 22ms/step\n",
      "Offensive Speech\n",
      "Predicted Category: 1\n"
     ]
    }
   ],
   "source": [
    "# Example usage:\n",
    "input_text = \"what the fuck\"\n",
    "predicted_category = predict_category(input_text, best_model, max_length)\n",
    "\n",
    "if predicted_category == 0:\n",
    "    print(\"Hate Speech\")\n",
    "elif predicted_category == 1:\n",
    "    print(\"Offensive Speech\")\n",
    "else:\n",
    "    print(\"Normal Speech\")\n",
    "print(\"Predicted Category:\", predicted_category)"
   ]
  },
  {
   "cell_type": "code",
   "execution_count": 434,
   "id": "a5fedefa",
   "metadata": {},
   "outputs": [
    {
     "name": "stdout",
     "output_type": "stream",
     "text": [
      "Loss: 0.31326910853385925\n",
      "Accuracy: 0.875676691532135\n",
      "F1 Score: 0.8765609264373779\n",
      "Precision: 0.8818032741546631\n",
      "Recall: 0.8715277910232544\n"
     ]
    }
   ],
   "source": [
    "gru_model_evaluation\n",
    "print(f\"Loss: {gru_model_evaluation[0]}\")\n",
    "print(f\"Accuracy: {gru_model_evaluation[1]}\")\n",
    "print(f\"F1 Score: {gru_model_evaluation[2]}\")\n",
    "print(f\"Precision: {gru_model_evaluation[3]}\")\n",
    "print(f\"Recall: {gru_model_evaluation[4]}\")\n"
   ]
  },
  {
   "cell_type": "code",
   "execution_count": null,
   "id": "c523e5e5",
   "metadata": {},
   "outputs": [],
   "source": []
  },
  {
   "cell_type": "code",
   "execution_count": 435,
   "id": "a308a681",
   "metadata": {},
   "outputs": [
    {
     "data": {
      "image/png": "[encoded data removed]",
      "text/plain": [
       "<Figure size 640x480 with 1 Axes>"
      ]
     },
     "metadata": {},
     "output_type": "display_data"
    }
   ],
   "source": [
    "metrics = ['Loss','Accuracy', 'F1 Score', 'Precision', 'Recall']\n",
    "bar_width = 0.35\n",
    "index = np.arange(len(metrics))\n",
    "\n",
    "fig, ax = plt.subplots()\n",
    "\n",
    "bar1 = ax.bar(index, lstm_model_evaluation, bar_width, label='LSTM')\n",
    "bar2 = ax.bar(index + bar_width, gru_model_evaluation, bar_width, label='GRU')\n",
    "\n",
    "ax.set_xlabel('Metrics')\n",
    "ax.set_ylabel('Scores')\n",
    "ax.set_title('Comparison of LSTM and GRU Models')\n",
    "ax.set_xticks(index + bar_width / 2)\n",
    "ax.set_xticklabels(metrics)\n",
    "ax.legend()\n",
    "\n",
    "plt.show()"
   ]
  },
  {
   "cell_type": "code",
   "execution_count": null,
   "id": "66979a3e",
   "metadata": {},
   "outputs": [],
   "source": []
  }
 ],
 "metadata": {
  "kernelspec": {
   "display_name": "Python 3 (ipykernel)",
   "language": "python",
   "name": "python3"
  },
  "language_info": {
   "codemirror_mode": {
    "name": "ipython",
    "version": 3
   },
   "file_extension": ".py",
   "mimetype": "text/x-python",
   "name": "python",
   "nbconvert_exporter": "python",
   "pygments_lexer": "ipython3",
   "version": "3.10.9"
  }
 },
 "nbformat": 4,
 "nbformat_minor": 5
}
